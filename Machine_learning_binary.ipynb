{
  "cells": [
    {
      "cell_type": "markdown",
      "metadata": {
        "id": "view-in-github",
        "colab_type": "text"
      },
      "source": [
        "<a href=\"https://colab.research.google.com/github/moonzkid/deccan-advanced-python-course/blob/main/Machine_learning_binary.ipynb\" target=\"_parent\"><img src=\"https://colab.research.google.com/assets/colab-badge.svg\" alt=\"Open In Colab\"/></a>"
      ]
    },
    {
      "cell_type": "code",
      "execution_count": 8,
      "metadata": {
        "id": "6NJyfscK7mjg"
      },
      "outputs": [],
      "source": [
        "##dataset\n",
        "#news_data.csv\n",
        "#download data and save it in your current working directory"
      ]
    },
    {
      "cell_type": "code",
      "execution_count": 9,
      "metadata": {
        "colab": {
          "base_uri": "https://localhost:8080/",
          "height": 36
        },
        "id": "KAJq7o7SwQ3a",
        "outputId": "5634e6ea-182c-48d7-85fc-791601c86cc1"
      },
      "outputs": [
        {
          "output_type": "execute_result",
          "data": {
            "text/plain": [
              "'/content'"
            ],
            "application/vnd.google.colaboratory.intrinsic+json": {
              "type": "string"
            }
          },
          "metadata": {},
          "execution_count": 9
        }
      ],
      "source": [
        "#finding the current working directory when working on jupyter\n",
        "import os\n",
        "os.getcwd()\n",
        "\n"
      ]
    },
    {
      "cell_type": "code",
      "execution_count": 10,
      "metadata": {
        "colab": {
          "base_uri": "https://localhost:8080/"
        },
        "id": "7LPNlKKiw3LI",
        "outputId": "dbe22a4d-47cf-4c2a-8c21-aaf2bb90cc3a"
      },
      "outputs": [
        {
          "output_type": "execute_result",
          "data": {
            "text/plain": [
              "['.config', 'sample_data']"
            ]
          },
          "metadata": {},
          "execution_count": 10
        }
      ],
      "source": [
        "os.listdir(os.getcwd())"
      ]
    },
    {
      "cell_type": "code",
      "execution_count": 11,
      "metadata": {
        "id": "ap3mVOBmyeV0"
      },
      "outputs": [],
      "source": [
        "#import libraries\n",
        "import pandas as pd\n",
        "import seaborn as sns\n",
        "import matplotlib.pyplot as plt\n"
      ]
    },
    {
      "cell_type": "code",
      "execution_count": 12,
      "metadata": {
        "colab": {
          "base_uri": "https://localhost:8080/",
          "height": 423
        },
        "collapsed": true,
        "id": "pdw-qKKrz9fF",
        "outputId": "8ab65730-4fd3-4611-9014-0e0e82f43e13"
      },
      "outputs": [
        {
          "output_type": "execute_result",
          "data": {
            "text/plain": [
              "                                                   Text label\n",
              "0      Top Trump Surrogate BRUTALLY Stabs Him In The...  Fake\n",
              "1     U.S. conservative leader optimistic of common ...  Real\n",
              "2     Trump proposes U.S. tax overhaul, stirs concer...  Real\n",
              "3      Court Forces Ohio To Allow Millions Of Illega...  Fake\n",
              "4     Democrats say Trump agrees to work on immigrat...  Real\n",
              "...                                                 ...   ...\n",
              "9895   Wikileaks Admits To Screwing Up IMMENSELY Wit...  Fake\n",
              "9896  Trump consults Republican senators on Fed chie...  Real\n",
              "9897  Trump lawyers say judge lacks jurisdiction for...  Real\n",
              "9898   WATCH: Right-Wing Pastor Falsely Credits Trum...  Fake\n",
              "9899   Sean Spicer HILARIOUSLY Branded As Chickensh*...  Fake\n",
              "\n",
              "[9900 rows x 2 columns]"
            ],
            "text/html": [
              "\n",
              "  <div id=\"df-d58d75c9-8f28-4390-819a-e767aeed8339\" class=\"colab-df-container\">\n",
              "    <div>\n",
              "<style scoped>\n",
              "    .dataframe tbody tr th:only-of-type {\n",
              "        vertical-align: middle;\n",
              "    }\n",
              "\n",
              "    .dataframe tbody tr th {\n",
              "        vertical-align: top;\n",
              "    }\n",
              "\n",
              "    .dataframe thead th {\n",
              "        text-align: right;\n",
              "    }\n",
              "</style>\n",
              "<table border=\"1\" class=\"dataframe\">\n",
              "  <thead>\n",
              "    <tr style=\"text-align: right;\">\n",
              "      <th></th>\n",
              "      <th>Text</th>\n",
              "      <th>label</th>\n",
              "    </tr>\n",
              "  </thead>\n",
              "  <tbody>\n",
              "    <tr>\n",
              "      <th>0</th>\n",
              "      <td>Top Trump Surrogate BRUTALLY Stabs Him In The...</td>\n",
              "      <td>Fake</td>\n",
              "    </tr>\n",
              "    <tr>\n",
              "      <th>1</th>\n",
              "      <td>U.S. conservative leader optimistic of common ...</td>\n",
              "      <td>Real</td>\n",
              "    </tr>\n",
              "    <tr>\n",
              "      <th>2</th>\n",
              "      <td>Trump proposes U.S. tax overhaul, stirs concer...</td>\n",
              "      <td>Real</td>\n",
              "    </tr>\n",
              "    <tr>\n",
              "      <th>3</th>\n",
              "      <td>Court Forces Ohio To Allow Millions Of Illega...</td>\n",
              "      <td>Fake</td>\n",
              "    </tr>\n",
              "    <tr>\n",
              "      <th>4</th>\n",
              "      <td>Democrats say Trump agrees to work on immigrat...</td>\n",
              "      <td>Real</td>\n",
              "    </tr>\n",
              "    <tr>\n",
              "      <th>...</th>\n",
              "      <td>...</td>\n",
              "      <td>...</td>\n",
              "    </tr>\n",
              "    <tr>\n",
              "      <th>9895</th>\n",
              "      <td>Wikileaks Admits To Screwing Up IMMENSELY Wit...</td>\n",
              "      <td>Fake</td>\n",
              "    </tr>\n",
              "    <tr>\n",
              "      <th>9896</th>\n",
              "      <td>Trump consults Republican senators on Fed chie...</td>\n",
              "      <td>Real</td>\n",
              "    </tr>\n",
              "    <tr>\n",
              "      <th>9897</th>\n",
              "      <td>Trump lawyers say judge lacks jurisdiction for...</td>\n",
              "      <td>Real</td>\n",
              "    </tr>\n",
              "    <tr>\n",
              "      <th>9898</th>\n",
              "      <td>WATCH: Right-Wing Pastor Falsely Credits Trum...</td>\n",
              "      <td>Fake</td>\n",
              "    </tr>\n",
              "    <tr>\n",
              "      <th>9899</th>\n",
              "      <td>Sean Spicer HILARIOUSLY Branded As Chickensh*...</td>\n",
              "      <td>Fake</td>\n",
              "    </tr>\n",
              "  </tbody>\n",
              "</table>\n",
              "<p>9900 rows × 2 columns</p>\n",
              "</div>\n",
              "    <div class=\"colab-df-buttons\">\n",
              "\n",
              "  <div class=\"colab-df-container\">\n",
              "    <button class=\"colab-df-convert\" onclick=\"convertToInteractive('df-d58d75c9-8f28-4390-819a-e767aeed8339')\"\n",
              "            title=\"Convert this dataframe to an interactive table.\"\n",
              "            style=\"display:none;\">\n",
              "\n",
              "  <svg xmlns=\"http://www.w3.org/2000/svg\" height=\"24px\" viewBox=\"0 -960 960 960\">\n",
              "    <path d=\"M120-120v-720h720v720H120Zm60-500h600v-160H180v160Zm220 220h160v-160H400v160Zm0 220h160v-160H400v160ZM180-400h160v-160H180v160Zm440 0h160v-160H620v160ZM180-180h160v-160H180v160Zm440 0h160v-160H620v160Z\"/>\n",
              "  </svg>\n",
              "    </button>\n",
              "\n",
              "  <style>\n",
              "    .colab-df-container {\n",
              "      display:flex;\n",
              "      gap: 12px;\n",
              "    }\n",
              "\n",
              "    .colab-df-convert {\n",
              "      background-color: #E8F0FE;\n",
              "      border: none;\n",
              "      border-radius: 50%;\n",
              "      cursor: pointer;\n",
              "      display: none;\n",
              "      fill: #1967D2;\n",
              "      height: 32px;\n",
              "      padding: 0 0 0 0;\n",
              "      width: 32px;\n",
              "    }\n",
              "\n",
              "    .colab-df-convert:hover {\n",
              "      background-color: #E2EBFA;\n",
              "      box-shadow: 0px 1px 2px rgba(60, 64, 67, 0.3), 0px 1px 3px 1px rgba(60, 64, 67, 0.15);\n",
              "      fill: #174EA6;\n",
              "    }\n",
              "\n",
              "    .colab-df-buttons div {\n",
              "      margin-bottom: 4px;\n",
              "    }\n",
              "\n",
              "    [theme=dark] .colab-df-convert {\n",
              "      background-color: #3B4455;\n",
              "      fill: #D2E3FC;\n",
              "    }\n",
              "\n",
              "    [theme=dark] .colab-df-convert:hover {\n",
              "      background-color: #434B5C;\n",
              "      box-shadow: 0px 1px 3px 1px rgba(0, 0, 0, 0.15);\n",
              "      filter: drop-shadow(0px 1px 2px rgba(0, 0, 0, 0.3));\n",
              "      fill: #FFFFFF;\n",
              "    }\n",
              "  </style>\n",
              "\n",
              "    <script>\n",
              "      const buttonEl =\n",
              "        document.querySelector('#df-d58d75c9-8f28-4390-819a-e767aeed8339 button.colab-df-convert');\n",
              "      buttonEl.style.display =\n",
              "        google.colab.kernel.accessAllowed ? 'block' : 'none';\n",
              "\n",
              "      async function convertToInteractive(key) {\n",
              "        const element = document.querySelector('#df-d58d75c9-8f28-4390-819a-e767aeed8339');\n",
              "        const dataTable =\n",
              "          await google.colab.kernel.invokeFunction('convertToInteractive',\n",
              "                                                    [key], {});\n",
              "        if (!dataTable) return;\n",
              "\n",
              "        const docLinkHtml = 'Like what you see? Visit the ' +\n",
              "          '<a target=\"_blank\" href=https://colab.research.google.com/notebooks/data_table.ipynb>data table notebook</a>'\n",
              "          + ' to learn more about interactive tables.';\n",
              "        element.innerHTML = '';\n",
              "        dataTable['output_type'] = 'display_data';\n",
              "        await google.colab.output.renderOutput(dataTable, element);\n",
              "        const docLink = document.createElement('div');\n",
              "        docLink.innerHTML = docLinkHtml;\n",
              "        element.appendChild(docLink);\n",
              "      }\n",
              "    </script>\n",
              "  </div>\n",
              "\n",
              "\n",
              "<div id=\"df-57bad079-4df7-49a2-874b-fcc6a3a36a2f\">\n",
              "  <button class=\"colab-df-quickchart\" onclick=\"quickchart('df-57bad079-4df7-49a2-874b-fcc6a3a36a2f')\"\n",
              "            title=\"Suggest charts\"\n",
              "            style=\"display:none;\">\n",
              "\n",
              "<svg xmlns=\"http://www.w3.org/2000/svg\" height=\"24px\"viewBox=\"0 0 24 24\"\n",
              "     width=\"24px\">\n",
              "    <g>\n",
              "        <path d=\"M19 3H5c-1.1 0-2 .9-2 2v14c0 1.1.9 2 2 2h14c1.1 0 2-.9 2-2V5c0-1.1-.9-2-2-2zM9 17H7v-7h2v7zm4 0h-2V7h2v10zm4 0h-2v-4h2v4z\"/>\n",
              "    </g>\n",
              "</svg>\n",
              "  </button>\n",
              "\n",
              "<style>\n",
              "  .colab-df-quickchart {\n",
              "      --bg-color: #E8F0FE;\n",
              "      --fill-color: #1967D2;\n",
              "      --hover-bg-color: #E2EBFA;\n",
              "      --hover-fill-color: #174EA6;\n",
              "      --disabled-fill-color: #AAA;\n",
              "      --disabled-bg-color: #DDD;\n",
              "  }\n",
              "\n",
              "  [theme=dark] .colab-df-quickchart {\n",
              "      --bg-color: #3B4455;\n",
              "      --fill-color: #D2E3FC;\n",
              "      --hover-bg-color: #434B5C;\n",
              "      --hover-fill-color: #FFFFFF;\n",
              "      --disabled-bg-color: #3B4455;\n",
              "      --disabled-fill-color: #666;\n",
              "  }\n",
              "\n",
              "  .colab-df-quickchart {\n",
              "    background-color: var(--bg-color);\n",
              "    border: none;\n",
              "    border-radius: 50%;\n",
              "    cursor: pointer;\n",
              "    display: none;\n",
              "    fill: var(--fill-color);\n",
              "    height: 32px;\n",
              "    padding: 0;\n",
              "    width: 32px;\n",
              "  }\n",
              "\n",
              "  .colab-df-quickchart:hover {\n",
              "    background-color: var(--hover-bg-color);\n",
              "    box-shadow: 0 1px 2px rgba(60, 64, 67, 0.3), 0 1px 3px 1px rgba(60, 64, 67, 0.15);\n",
              "    fill: var(--button-hover-fill-color);\n",
              "  }\n",
              "\n",
              "  .colab-df-quickchart-complete:disabled,\n",
              "  .colab-df-quickchart-complete:disabled:hover {\n",
              "    background-color: var(--disabled-bg-color);\n",
              "    fill: var(--disabled-fill-color);\n",
              "    box-shadow: none;\n",
              "  }\n",
              "\n",
              "  .colab-df-spinner {\n",
              "    border: 2px solid var(--fill-color);\n",
              "    border-color: transparent;\n",
              "    border-bottom-color: var(--fill-color);\n",
              "    animation:\n",
              "      spin 1s steps(1) infinite;\n",
              "  }\n",
              "\n",
              "  @keyframes spin {\n",
              "    0% {\n",
              "      border-color: transparent;\n",
              "      border-bottom-color: var(--fill-color);\n",
              "      border-left-color: var(--fill-color);\n",
              "    }\n",
              "    20% {\n",
              "      border-color: transparent;\n",
              "      border-left-color: var(--fill-color);\n",
              "      border-top-color: var(--fill-color);\n",
              "    }\n",
              "    30% {\n",
              "      border-color: transparent;\n",
              "      border-left-color: var(--fill-color);\n",
              "      border-top-color: var(--fill-color);\n",
              "      border-right-color: var(--fill-color);\n",
              "    }\n",
              "    40% {\n",
              "      border-color: transparent;\n",
              "      border-right-color: var(--fill-color);\n",
              "      border-top-color: var(--fill-color);\n",
              "    }\n",
              "    60% {\n",
              "      border-color: transparent;\n",
              "      border-right-color: var(--fill-color);\n",
              "    }\n",
              "    80% {\n",
              "      border-color: transparent;\n",
              "      border-right-color: var(--fill-color);\n",
              "      border-bottom-color: var(--fill-color);\n",
              "    }\n",
              "    90% {\n",
              "      border-color: transparent;\n",
              "      border-bottom-color: var(--fill-color);\n",
              "    }\n",
              "  }\n",
              "</style>\n",
              "\n",
              "  <script>\n",
              "    async function quickchart(key) {\n",
              "      const quickchartButtonEl =\n",
              "        document.querySelector('#' + key + ' button');\n",
              "      quickchartButtonEl.disabled = true;  // To prevent multiple clicks.\n",
              "      quickchartButtonEl.classList.add('colab-df-spinner');\n",
              "      try {\n",
              "        const charts = await google.colab.kernel.invokeFunction(\n",
              "            'suggestCharts', [key], {});\n",
              "      } catch (error) {\n",
              "        console.error('Error during call to suggestCharts:', error);\n",
              "      }\n",
              "      quickchartButtonEl.classList.remove('colab-df-spinner');\n",
              "      quickchartButtonEl.classList.add('colab-df-quickchart-complete');\n",
              "    }\n",
              "    (() => {\n",
              "      let quickchartButtonEl =\n",
              "        document.querySelector('#df-57bad079-4df7-49a2-874b-fcc6a3a36a2f button');\n",
              "      quickchartButtonEl.style.display =\n",
              "        google.colab.kernel.accessAllowed ? 'block' : 'none';\n",
              "    })();\n",
              "  </script>\n",
              "</div>\n",
              "\n",
              "  <div id=\"id_759061ff-2ab8-4e3a-93c9-448257d4b64f\">\n",
              "    <style>\n",
              "      .colab-df-generate {\n",
              "        background-color: #E8F0FE;\n",
              "        border: none;\n",
              "        border-radius: 50%;\n",
              "        cursor: pointer;\n",
              "        display: none;\n",
              "        fill: #1967D2;\n",
              "        height: 32px;\n",
              "        padding: 0 0 0 0;\n",
              "        width: 32px;\n",
              "      }\n",
              "\n",
              "      .colab-df-generate:hover {\n",
              "        background-color: #E2EBFA;\n",
              "        box-shadow: 0px 1px 2px rgba(60, 64, 67, 0.3), 0px 1px 3px 1px rgba(60, 64, 67, 0.15);\n",
              "        fill: #174EA6;\n",
              "      }\n",
              "\n",
              "      [theme=dark] .colab-df-generate {\n",
              "        background-color: #3B4455;\n",
              "        fill: #D2E3FC;\n",
              "      }\n",
              "\n",
              "      [theme=dark] .colab-df-generate:hover {\n",
              "        background-color: #434B5C;\n",
              "        box-shadow: 0px 1px 3px 1px rgba(0, 0, 0, 0.15);\n",
              "        filter: drop-shadow(0px 1px 2px rgba(0, 0, 0, 0.3));\n",
              "        fill: #FFFFFF;\n",
              "      }\n",
              "    </style>\n",
              "    <button class=\"colab-df-generate\" onclick=\"generateWithVariable('df')\"\n",
              "            title=\"Generate code using this dataframe.\"\n",
              "            style=\"display:none;\">\n",
              "\n",
              "  <svg xmlns=\"http://www.w3.org/2000/svg\" height=\"24px\"viewBox=\"0 0 24 24\"\n",
              "       width=\"24px\">\n",
              "    <path d=\"M7,19H8.4L18.45,9,17,7.55,7,17.6ZM5,21V16.75L18.45,3.32a2,2,0,0,1,2.83,0l1.4,1.43a1.91,1.91,0,0,1,.58,1.4,1.91,1.91,0,0,1-.58,1.4L9.25,21ZM18.45,9,17,7.55Zm-12,3A5.31,5.31,0,0,0,4.9,8.1,5.31,5.31,0,0,0,1,6.5,5.31,5.31,0,0,0,4.9,4.9,5.31,5.31,0,0,0,6.5,1,5.31,5.31,0,0,0,8.1,4.9,5.31,5.31,0,0,0,12,6.5,5.46,5.46,0,0,0,6.5,12Z\"/>\n",
              "  </svg>\n",
              "    </button>\n",
              "    <script>\n",
              "      (() => {\n",
              "      const buttonEl =\n",
              "        document.querySelector('#id_759061ff-2ab8-4e3a-93c9-448257d4b64f button.colab-df-generate');\n",
              "      buttonEl.style.display =\n",
              "        google.colab.kernel.accessAllowed ? 'block' : 'none';\n",
              "\n",
              "      buttonEl.onclick = () => {\n",
              "        google.colab.notebook.generateWithVariable('df');\n",
              "      }\n",
              "      })();\n",
              "    </script>\n",
              "  </div>\n",
              "\n",
              "    </div>\n",
              "  </div>\n"
            ],
            "application/vnd.google.colaboratory.intrinsic+json": {
              "type": "dataframe",
              "variable_name": "df",
              "summary": "{\n  \"name\": \"df\",\n  \"rows\": 9900,\n  \"fields\": [\n    {\n      \"column\": \"Text\",\n      \"properties\": {\n        \"dtype\": \"string\",\n        \"num_unique_values\": 9865,\n        \"samples\": [\n          \" ICYMI: SNL Skewers \\u201cMorning Joe\\u201d And It Is Hilarious This week s cold open for Saturday Night Live featured a parody of the morning show, Morning Joe. The sketch featured Alex Moffat as host Joe Scarborough and Kate McKinnon as Mika Mika Brzezinski. The sketch also has Alec Baldwin as President Donald Trump, who calls into the show as  John Miller,  a spokesperson for the White House. Back in the day, Trump was known for calling reporters all over the New York area pretending to be his own publicist. He would call, not to tout his business successes but to brag about his sex life.The sketch also made fun of the relationship between the hosts. The pair got engaged recently when they were celebrating Mika s 50th birthday. The sketch shows the response from the other panelists on the show, Mark Halperin, Willie Geist and Mike Barnacle, who all have no idea how to respond to Joe and Mika s behavior on the set.Featured image via Frederick M. Brown/Getty Images.\",\n          \" BOMBSHELL: Information Suggests Trump Associates DID Collude With Russia, According To Officials Wednesday was not a good day to be Donald Trump. In the aftermath of the disastrous Comey hearing where it was confirmed that The Donald s team was indeed being investigated   and of Rep. Nunes  decision to skip informing his fellow congressional Russia investigators of perfectly legal  incidental collection  of information about Trump associates and possibly the President* himself and run to The Donald with it instead   Trump has been flailing, attempting to distract from the whole Russia thing as much as possible.That s going to be very hard now, as U.S. officials have now confirmed that the facts suggest that members of his team were indeed working with the enemy. CNN reports:The FBI has information that indicates associates of President Donald Trump communicated with suspected Russian operatives to possibly coordinate the release of information damaging to Hillary Clinton s campaign, US officials told CNN.\",\n          \" Vladimir Putin Just Defended Trump In The WORST Way Possible (VIDEO) According to Russian dictator Vladimir Putin, it s silly to worry about little things like whether or not a couple of Russian ladies peed on Donald Trump s bed because it s much, much worse to publish memos that reveal these allegations.Putin says that there is a conspiracy to  delegitimize  the man and his team of hackers, fake news writers, and trolls he worked hard to install in the Oval Office by hacking Trump s political opponents and running an aggressive propaganda campaign. I don t know Mr. Trump, I have never met him, I don t know what he will do in the international arena, so I have no reason either to attack him, criticize him or defend him, Putin said at a press conference. Donald Trump has been with the most beautiful women in the world, so why would he need prostitutes in Moscow? To answer that question, we need only look to a 2001 edition of the Howard Stern Show in which Trump was reminded that he bragged that he likes to go to Russia to have sex with women because they  have no morals. Putin says that Russian security services  do not chase every US billionaire,  and that the release of the documents was worse than prostitutes. In a way, he s right, as the documents presented to both Trump and President Obama also allege that members of the President-elect s campaign staff directly worked with the Russian government during the campaign.On numerous occasions, Trump has repeated Russian propaganda while attacking U.S. intelligence agencies that have been exposing him for what he is and, of course, has directly quoted Putin (a man whom Trump says is  very smart ) while hurling barbs at Hillary Clinton.Trump and Putin have been screaming about the  fake news  release of actual documents that actual intelligence agencies are in possession of, but the BBC reported recently that the whole pissing Russian ladies thing is just the tip of the iceberg. Correspondent Paul Wood revealed last week that at least four sources have confirmed the information, with one U.S. intelligence source informing him that there is audio and video of The Donald s escapades, and an Israeli news source reports that the country s spies have been warned against sharing information with the United States for fear that Trump will relay it to Putin.Putin and Trump s bromance is disconcerting at best   especially when more than a baker s dozen intelligence agencies have confirmed that the man who stood up to join Trump in his attacks on our intelligence agencies has been confirmed to have interfered in our election.Watch it below:Featured image via Getty Images\"\n        ],\n        \"semantic_type\": \"\",\n        \"description\": \"\"\n      }\n    },\n    {\n      \"column\": \"label\",\n      \"properties\": {\n        \"dtype\": \"category\",\n        \"num_unique_values\": 2,\n        \"samples\": [\n          \"Real\",\n          \"Fake\"\n        ],\n        \"semantic_type\": \"\",\n        \"description\": \"\"\n      }\n    }\n  ]\n}"
            }
          },
          "metadata": {},
          "execution_count": 12
        }
      ],
      "source": [
        "#read the dataset\n",
        "df= pd.read_csv('/content/sample_data/news_data.csv')\n",
        "df.shape                     #2 columns are present\n",
        "df"
      ]
    },
    {
      "cell_type": "code",
      "execution_count": 13,
      "metadata": {
        "colab": {
          "base_uri": "https://localhost:8080/"
        },
        "id": "yjUjbCKV0LZN",
        "outputId": "55abcdee-d597-4527-b51c-f21095eaa741"
      },
      "outputs": [
        {
          "output_type": "execute_result",
          "data": {
            "text/plain": [
              "Index(['Text', 'label'], dtype='object')"
            ]
          },
          "metadata": {},
          "execution_count": 13
        }
      ],
      "source": [
        "df.columns               #text is input data and label is output data"
      ]
    },
    {
      "cell_type": "code",
      "execution_count": 14,
      "metadata": {
        "id": "nYEFawkU0aoa"
      },
      "outputs": [],
      "source": [
        "#separate input and output data\n",
        "features= df[\"Text\"]        #input data\n",
        "label= df[\"label\"]          #output data\n"
      ]
    },
    {
      "cell_type": "code",
      "execution_count": 15,
      "metadata": {
        "colab": {
          "base_uri": "https://localhost:8080/"
        },
        "id": "n5PqvB0I1TL1",
        "outputId": "7af8aa2a-a383-4e58-c2c9-64fe27c9446d"
      },
      "outputs": [
        {
          "output_type": "execute_result",
          "data": {
            "text/plain": [
              "0     Top Trump Surrogate BRUTALLY Stabs Him In The...\n",
              "1    U.S. conservative leader optimistic of common ...\n",
              "2    Trump proposes U.S. tax overhaul, stirs concer...\n",
              "3     Court Forces Ohio To Allow Millions Of Illega...\n",
              "4    Democrats say Trump agrees to work on immigrat...\n",
              "Name: Text, dtype: object"
            ]
          },
          "metadata": {},
          "execution_count": 15
        }
      ],
      "source": [
        "features.head()         #gives the text separately"
      ]
    },
    {
      "cell_type": "code",
      "execution_count": 16,
      "metadata": {
        "colab": {
          "base_uri": "https://localhost:8080/"
        },
        "id": "ltJLuM911XGD",
        "outputId": "ac7efc5b-49d4-414c-f035-5addf39c7dbd"
      },
      "outputs": [
        {
          "output_type": "execute_result",
          "data": {
            "text/plain": [
              "0       Fake\n",
              "1       Real\n",
              "2       Real\n",
              "3       Fake\n",
              "4       Real\n",
              "        ... \n",
              "9895    Fake\n",
              "9896    Real\n",
              "9897    Real\n",
              "9898    Fake\n",
              "9899    Fake\n",
              "Name: label, Length: 9900, dtype: object"
            ]
          },
          "metadata": {},
          "execution_count": 16
        }
      ],
      "source": [
        "label               #gives the labels separately"
      ]
    },
    {
      "cell_type": "code",
      "execution_count": 17,
      "metadata": {
        "colab": {
          "base_uri": "https://localhost:8080/",
          "height": 466
        },
        "id": "sB2WO7kY1h0P",
        "outputId": "75df29c2-118d-4510-b572-1707569bfcba"
      },
      "outputs": [
        {
          "output_type": "execute_result",
          "data": {
            "text/plain": [
              "<Axes: xlabel='label', ylabel='count'>"
            ]
          },
          "metadata": {},
          "execution_count": 17
        },
        {
          "output_type": "display_data",
          "data": {
            "text/plain": [
              "<Figure size 640x480 with 1 Axes>"
            ],
            "image/png": "[encoded data removed]"
          },
          "metadata": {}
        }
      ],
      "source": [
        "#check if only two labels are present?? how many fake and real??\n",
        "\n",
        "set(label)            #gives the number of labels in data\n",
        "\n",
        "sns.countplot(x = label)       #shows the number of real and fake labels in the data"
      ]
    },
    {
      "cell_type": "code",
      "execution_count": 18,
      "metadata": {
        "colab": {
          "base_uri": "https://localhost:8080/"
        },
        "id": "Y0ZiSR85SWej",
        "outputId": "45d1f755-b536-46b9-ca12-45ce35942b8c"
      },
      "outputs": [
        {
          "output_type": "execute_result",
          "data": {
            "text/plain": [
              "label\n",
              "Fake    5000\n",
              "Real    4900\n",
              "Name: count, dtype: int64"
            ]
          },
          "metadata": {},
          "execution_count": 18
        }
      ],
      "source": [
        "label.value_counts()          #counts number of fake and real labels in data"
      ]
    },
    {
      "cell_type": "code",
      "execution_count": 19,
      "metadata": {
        "id": "dYatk1NFUdqH",
        "colab": {
          "base_uri": "https://localhost:8080/",
          "height": 510
        },
        "outputId": "42fc76e1-4b50-4c79-a6c2-187cd1098b8a"
      },
      "outputs": [
        {
          "output_type": "execute_result",
          "data": {
            "text/plain": [
              "([<matplotlib.patches.Wedge at 0x7a70f665cdf0>,\n",
              "  <matplotlib.patches.Wedge at 0x7a70f665ccd0>],\n",
              " [Text(-0.017452474924647392, 1.0998615417946955, 'Fake'),\n",
              "  Text(0.017452371948178103, -1.0998615434287093, 'Real')],\n",
              " [Text(-0.009519531777080396, 0.599924477342561, '50.51%'),\n",
              "  Text(0.009519475608097145, -0.5999244782338414, '49.49%')])"
            ]
          },
          "metadata": {},
          "execution_count": 19
        },
        {
          "output_type": "display_data",
          "data": {
            "text/plain": [
              "<Figure size 640x480 with 1 Axes>"
            ],
            "image/png": "[encoded data removed]"
          },
          "metadata": {}
        }
      ],
      "source": [
        "plt.pie(label.value_counts(), labels=label.value_counts().index, autopct='%2.2f%%')           #autopercentage?"
      ]
    },
    {
      "cell_type": "code",
      "execution_count": 20,
      "metadata": {
        "id": "9BWrYsMQVm6R"
      },
      "outputs": [],
      "source": [
        "#data preparation\n",
        "\n",
        "\n"
      ]
    },
    {
      "cell_type": "code",
      "execution_count": 21,
      "metadata": {
        "id": "vl7r9_z5avQS"
      },
      "outputs": [],
      "source": [
        "#data cleaning\n"
      ]
    },
    {
      "cell_type": "code",
      "execution_count": 22,
      "metadata": {
        "colab": {
          "base_uri": "https://localhost:8080/"
        },
        "id": "F9MAU7gFbTiY",
        "outputId": "451e951c-864b-4e18-8e0e-24a1c040bd08"
      },
      "outputs": [
        {
          "output_type": "stream",
          "name": "stderr",
          "text": [
            "[nltk_data] Downloading package punkt to /root/nltk_data...\n",
            "[nltk_data]   Unzipping tokenizers/punkt.zip.\n",
            "[nltk_data] Downloading package stopwords to /root/nltk_data...\n",
            "[nltk_data]   Unzipping corpora/stopwords.zip.\n"
          ]
        },
        {
          "output_type": "execute_result",
          "data": {
            "text/plain": [
              "True"
            ]
          },
          "metadata": {},
          "execution_count": 22
        }
      ],
      "source": [
        "import nltk\n",
        "nltk.download('punkt')\n",
        "from nltk.tokenize import word_tokenize\n",
        "from nltk.corpus import stopwords\n",
        "from nltk.stem import PorterStemmer\n",
        "\n",
        "nltk.download('stopwords')\n"
      ]
    },
    {
      "cell_type": "code",
      "execution_count": 23,
      "metadata": {
        "id": "lbRaphyfbyEf"
      },
      "outputs": [],
      "source": [
        "#demonstration only\n",
        "sent='Hello friends! How are you?I like Python Programming.'"
      ]
    },
    {
      "cell_type": "code",
      "execution_count": 24,
      "metadata": {
        "id": "CBsLRfL-b7l0"
      },
      "outputs": [],
      "source": [
        "#tokenization\n",
        "tokens_1= word_tokenize(sent)"
      ]
    },
    {
      "cell_type": "code",
      "execution_count": 25,
      "metadata": {
        "colab": {
          "base_uri": "https://localhost:8080/"
        },
        "id": "NN7LOaHYcEDB",
        "outputId": "2ae4d2a1-9690-4b9e-85be-2d31577837c1"
      },
      "outputs": [
        {
          "output_type": "execute_result",
          "data": {
            "text/plain": [
              "['Hello',\n",
              " 'friends',\n",
              " '!',\n",
              " 'How',\n",
              " 'are',\n",
              " 'you',\n",
              " '?',\n",
              " 'I',\n",
              " 'like',\n",
              " 'Python',\n",
              " 'Programming',\n",
              " '.']"
            ]
          },
          "metadata": {},
          "execution_count": 25
        }
      ],
      "source": [
        "tokens_1"
      ]
    },
    {
      "cell_type": "code",
      "execution_count": 26,
      "metadata": {
        "id": "TLtAB8rZceta"
      },
      "outputs": [],
      "source": [
        "#remove punctuations\n",
        "tokens2= [x.lower() for x in tokens_1 if x.isalpha()]        #only save if it is an alphabet(isalpha)"
      ]
    },
    {
      "cell_type": "code",
      "execution_count": 27,
      "metadata": {
        "colab": {
          "base_uri": "https://localhost:8080/"
        },
        "id": "hBA35YWhiJP6",
        "outputId": "9cb768a0-e2cb-4927-975b-fc43000d7b3e"
      },
      "outputs": [
        {
          "output_type": "execute_result",
          "data": {
            "text/plain": [
              "['hello', 'friends', 'how', 'are', 'you', 'i', 'like', 'python', 'programming']"
            ]
          },
          "metadata": {},
          "execution_count": 27
        }
      ],
      "source": [
        "tokens2"
      ]
    },
    {
      "cell_type": "code",
      "execution_count": 28,
      "metadata": {
        "id": "8H1TRw1ViKiT"
      },
      "outputs": [],
      "source": [
        "swords=stopwords.words('english')"
      ]
    },
    {
      "cell_type": "code",
      "execution_count": 29,
      "metadata": {
        "colab": {
          "base_uri": "https://localhost:8080/"
        },
        "collapsed": true,
        "id": "_Nj61TZui-u7",
        "outputId": "12573bd1-4d66-4c74-cbed-c2426061f62a"
      },
      "outputs": [
        {
          "output_type": "execute_result",
          "data": {
            "text/plain": [
              "['i',\n",
              " 'me',\n",
              " 'my',\n",
              " 'myself',\n",
              " 'we',\n",
              " 'our',\n",
              " 'ours',\n",
              " 'ourselves',\n",
              " 'you',\n",
              " \"you're\",\n",
              " \"you've\",\n",
              " \"you'll\",\n",
              " \"you'd\",\n",
              " 'your',\n",
              " 'yours',\n",
              " 'yourself',\n",
              " 'yourselves',\n",
              " 'he',\n",
              " 'him',\n",
              " 'his',\n",
              " 'himself',\n",
              " 'she',\n",
              " \"she's\",\n",
              " 'her',\n",
              " 'hers',\n",
              " 'herself',\n",
              " 'it',\n",
              " \"it's\",\n",
              " 'its',\n",
              " 'itself',\n",
              " 'they',\n",
              " 'them',\n",
              " 'their',\n",
              " 'theirs',\n",
              " 'themselves',\n",
              " 'what',\n",
              " 'which',\n",
              " 'who',\n",
              " 'whom',\n",
              " 'this',\n",
              " 'that',\n",
              " \"that'll\",\n",
              " 'these',\n",
              " 'those',\n",
              " 'am',\n",
              " 'is',\n",
              " 'are',\n",
              " 'was',\n",
              " 'were',\n",
              " 'be',\n",
              " 'been',\n",
              " 'being',\n",
              " 'have',\n",
              " 'has',\n",
              " 'had',\n",
              " 'having',\n",
              " 'do',\n",
              " 'does',\n",
              " 'did',\n",
              " 'doing',\n",
              " 'a',\n",
              " 'an',\n",
              " 'the',\n",
              " 'and',\n",
              " 'but',\n",
              " 'if',\n",
              " 'or',\n",
              " 'because',\n",
              " 'as',\n",
              " 'until',\n",
              " 'while',\n",
              " 'of',\n",
              " 'at',\n",
              " 'by',\n",
              " 'for',\n",
              " 'with',\n",
              " 'about',\n",
              " 'against',\n",
              " 'between',\n",
              " 'into',\n",
              " 'through',\n",
              " 'during',\n",
              " 'before',\n",
              " 'after',\n",
              " 'above',\n",
              " 'below',\n",
              " 'to',\n",
              " 'from',\n",
              " 'up',\n",
              " 'down',\n",
              " 'in',\n",
              " 'out',\n",
              " 'on',\n",
              " 'off',\n",
              " 'over',\n",
              " 'under',\n",
              " 'again',\n",
              " 'further',\n",
              " 'then',\n",
              " 'once',\n",
              " 'here',\n",
              " 'there',\n",
              " 'when',\n",
              " 'where',\n",
              " 'why',\n",
              " 'how',\n",
              " 'all',\n",
              " 'any',\n",
              " 'both',\n",
              " 'each',\n",
              " 'few',\n",
              " 'more',\n",
              " 'most',\n",
              " 'other',\n",
              " 'some',\n",
              " 'such',\n",
              " 'no',\n",
              " 'nor',\n",
              " 'not',\n",
              " 'only',\n",
              " 'own',\n",
              " 'same',\n",
              " 'so',\n",
              " 'than',\n",
              " 'too',\n",
              " 'very',\n",
              " 's',\n",
              " 't',\n",
              " 'can',\n",
              " 'will',\n",
              " 'just',\n",
              " 'don',\n",
              " \"don't\",\n",
              " 'should',\n",
              " \"should've\",\n",
              " 'now',\n",
              " 'd',\n",
              " 'll',\n",
              " 'm',\n",
              " 'o',\n",
              " 're',\n",
              " 've',\n",
              " 'y',\n",
              " 'ain',\n",
              " 'aren',\n",
              " \"aren't\",\n",
              " 'couldn',\n",
              " \"couldn't\",\n",
              " 'didn',\n",
              " \"didn't\",\n",
              " 'doesn',\n",
              " \"doesn't\",\n",
              " 'hadn',\n",
              " \"hadn't\",\n",
              " 'hasn',\n",
              " \"hasn't\",\n",
              " 'haven',\n",
              " \"haven't\",\n",
              " 'isn',\n",
              " \"isn't\",\n",
              " 'ma',\n",
              " 'mightn',\n",
              " \"mightn't\",\n",
              " 'mustn',\n",
              " \"mustn't\",\n",
              " 'needn',\n",
              " \"needn't\",\n",
              " 'shan',\n",
              " \"shan't\",\n",
              " 'shouldn',\n",
              " \"shouldn't\",\n",
              " 'wasn',\n",
              " \"wasn't\",\n",
              " 'weren',\n",
              " \"weren't\",\n",
              " 'won',\n",
              " \"won't\",\n",
              " 'wouldn',\n",
              " \"wouldn't\"]"
            ]
          },
          "metadata": {},
          "execution_count": 29
        }
      ],
      "source": [
        "swords"
      ]
    },
    {
      "cell_type": "code",
      "execution_count": 30,
      "metadata": {
        "id": "F_3souVRi_az"
      },
      "outputs": [],
      "source": [
        "tokens3= [x for x in tokens2 if x not in swords]"
      ]
    },
    {
      "cell_type": "code",
      "execution_count": 31,
      "metadata": {
        "colab": {
          "base_uri": "https://localhost:8080/"
        },
        "id": "zf4qXHhi-lqA",
        "outputId": "7c2f1946-92c0-4052-ee68-dcb814d5a97d"
      },
      "outputs": [
        {
          "output_type": "execute_result",
          "data": {
            "text/plain": [
              "['hello', 'friends', 'like', 'python', 'programming']"
            ]
          },
          "metadata": {},
          "execution_count": 31
        }
      ],
      "source": [
        "tokens3"
      ]
    },
    {
      "cell_type": "code",
      "execution_count": 32,
      "metadata": {
        "id": "7lmE-08e-mjz"
      },
      "outputs": [],
      "source": [
        "#remove suffixes\n",
        "ps= PorterStemmer()"
      ]
    },
    {
      "cell_type": "code",
      "execution_count": 33,
      "metadata": {
        "colab": {
          "base_uri": "https://localhost:8080/"
        },
        "id": "7A6sQoHKCPK-",
        "outputId": "db766a2e-3c6d-4ffa-8032-36b71ae79207"
      },
      "outputs": [
        {
          "output_type": "execute_result",
          "data": {
            "text/plain": [
              "['hello', 'friend', 'like', 'python', 'program']"
            ]
          },
          "metadata": {},
          "execution_count": 33
        }
      ],
      "source": [
        "tokens4= [ps.stem(x) for x in tokens3]\n",
        "tokens4"
      ]
    },
    {
      "cell_type": "code",
      "execution_count": 34,
      "metadata": {
        "id": "aVhwnw16CkHD"
      },
      "outputs": [],
      "source": [
        "#define a function for text cleaning\n",
        "def clean_text(sent):\n",
        "  tokens1= word_tokenize(sent)\n",
        "  tokens2= [x.lower() for x in tokens1 if x.isalpha()]       #lowercasing\n",
        "  tokens3= [x for x in tokens2 if x not in swords]          #stopword removal\n",
        "  tokens4= [ps.stem(x) for x in tokens3]                    #stemming\n",
        "  return tokens4"
      ]
    },
    {
      "cell_type": "code",
      "execution_count": 35,
      "metadata": {
        "colab": {
          "base_uri": "https://localhost:8080/"
        },
        "id": "NI3PzZowEL0P",
        "outputId": "7c6340a7-63f9-43db-de85-17c13e0d4222"
      },
      "outputs": [
        {
          "output_type": "execute_result",
          "data": {
            "text/plain": [
              "['hello', 'friend', 'like', 'python', 'program']"
            ]
          },
          "metadata": {},
          "execution_count": 35
        }
      ],
      "source": [
        "clean_text(sent)"
      ]
    },
    {
      "cell_type": "code",
      "execution_count": 36,
      "metadata": {
        "colab": {
          "base_uri": "https://localhost:8080/"
        },
        "id": "AQykaBqeEeaE",
        "outputId": "b3e57bf5-cd6c-440c-9e9d-e47c2721529b"
      },
      "outputs": [
        {
          "output_type": "execute_result",
          "data": {
            "text/plain": [
              "['expect', 'result', 'told', 'field']"
            ]
          },
          "metadata": {},
          "execution_count": 36
        }
      ],
      "source": [
        "s=\"It had the expected result. As told on fields\"\n",
        "clean_text(s)                          #retrieve the keywords"
      ]
    },
    {
      "cell_type": "code",
      "execution_count": 37,
      "metadata": {
        "colab": {
          "base_uri": "https://localhost:8080/",
          "height": 140
        },
        "id": "0BKdQ2wFE2sF",
        "outputId": "dd93bc63-d768-419d-d079-b57e2a685f31"
      },
      "outputs": [
        {
          "output_type": "execute_result",
          "data": {
            "text/plain": [
              "' Ranking Dem On House Russia Probe Has EXPLOSIVE News For Trump That Will Have Him Running Scared As everybody who still believes in democracy and true freedom reels from FBI Director James Comey s firing, the media and members of Congress have been frantically working to get the deets on what happened. Rep. Adam Schiff, the ranking member of the House Intelligence Committee (which is conducting its own investigation into Russia), just dropped a truth bomb about Comey, and Trump would be wise to go find a cave and hide in it now.Schiff was asked, on CNN, whether he believes this is a cover-up. He doesn t. He thinks it s something worse: It s a brazen interference with a criminal investigation. After all, the president calls this whole investigation a fake, and here you had an FBI director who was seriously looking into whether Trump associates were colluding with the Russians. The end of his statement to CNN should be particularly jarring to anybody familiar with history. Watch below:Rep. Adam Schiff on firing of FBI Director James Comey:  It s a brazen interference with a criminal investigation  https://t.co/5SXgAuTVBP  CNN (@CNN) May 10, 2017Earlier this year, the White House tried to get the FBI to publicly dispute stories appearing in The New York Times about contacts between Trump s associates and Russian actors. They ve been trying to bend the FBI to their will for a long time, and when Comey wouldn t lie under oath for them, or end his Russia probe, Trump decided to fire him.In fact, Jeff Sessions was actually told to find reasons to fire Comey, and they ve been working on it for at least a week. Trump likely wants someone in that position who ll end that investigation before they discover something really damning. He wants a puppet.If Trump was innocent, the White House wouldn t have been looking for reasons to fire Comey now. Comey may not have even been fired, but if he was, Trump probably would have done it when he took office under the guise of getting a fresh start, as Schiff said to CNN. This is not the behavior of an innocent man.Featured image via Mark Wilson/Getty Images'"
            ],
            "application/vnd.google.colaboratory.intrinsic+json": {
              "type": "string"
            }
          },
          "metadata": {},
          "execution_count": 37
        }
      ],
      "source": [
        "features[123]"
      ]
    },
    {
      "cell_type": "code",
      "execution_count": 38,
      "metadata": {
        "colab": {
          "base_uri": "https://localhost:8080/"
        },
        "id": "EBnbZwFlFbaO",
        "outputId": "3f3f9103-99ac-426c-b5be-61cc3957d09b"
      },
      "outputs": [
        {
          "output_type": "execute_result",
          "data": {
            "text/plain": [
              "['rank',\n",
              " 'dem',\n",
              " 'hous',\n",
              " 'russia',\n",
              " 'probe',\n",
              " 'explos',\n",
              " 'news',\n",
              " 'trump',\n",
              " 'run',\n",
              " 'scare',\n",
              " 'everybodi',\n",
              " 'still',\n",
              " 'believ',\n",
              " 'democraci',\n",
              " 'true',\n",
              " 'freedom',\n",
              " 'reel',\n",
              " 'fbi',\n",
              " 'director',\n",
              " 'jame',\n",
              " 'comey',\n",
              " 'fire',\n",
              " 'media',\n",
              " 'member',\n",
              " 'congress',\n",
              " 'frantic',\n",
              " 'work',\n",
              " 'get',\n",
              " 'deet',\n",
              " 'happen',\n",
              " 'adam',\n",
              " 'schiff',\n",
              " 'rank',\n",
              " 'member',\n",
              " 'hous',\n",
              " 'intellig',\n",
              " 'committe',\n",
              " 'conduct',\n",
              " 'investig',\n",
              " 'russia',\n",
              " 'drop',\n",
              " 'truth',\n",
              " 'bomb',\n",
              " 'comey',\n",
              " 'trump',\n",
              " 'would',\n",
              " 'wise',\n",
              " 'go',\n",
              " 'find',\n",
              " 'cave',\n",
              " 'hide',\n",
              " 'ask',\n",
              " 'cnn',\n",
              " 'whether',\n",
              " 'believ',\n",
              " 'think',\n",
              " 'someth',\n",
              " 'wors',\n",
              " 'brazen',\n",
              " 'interfer',\n",
              " 'crimin',\n",
              " 'investig',\n",
              " 'presid',\n",
              " 'call',\n",
              " 'whole',\n",
              " 'investig',\n",
              " 'fake',\n",
              " 'fbi',\n",
              " 'director',\n",
              " 'serious',\n",
              " 'look',\n",
              " 'whether',\n",
              " 'trump',\n",
              " 'associ',\n",
              " 'collud',\n",
              " 'russian',\n",
              " 'end',\n",
              " 'statement',\n",
              " 'cnn',\n",
              " 'particularli',\n",
              " 'jar',\n",
              " 'anybodi',\n",
              " 'familiar',\n",
              " 'histori',\n",
              " 'watch',\n",
              " 'adam',\n",
              " 'schiff',\n",
              " 'fire',\n",
              " 'fbi',\n",
              " 'director',\n",
              " 'jame',\n",
              " 'comey',\n",
              " 'brazen',\n",
              " 'interfer',\n",
              " 'crimin',\n",
              " 'investig',\n",
              " 'http',\n",
              " 'cnn',\n",
              " 'cnn',\n",
              " 'may',\n",
              " 'year',\n",
              " 'white',\n",
              " 'hous',\n",
              " 'tri',\n",
              " 'get',\n",
              " 'fbi',\n",
              " 'publicli',\n",
              " 'disput',\n",
              " 'stori',\n",
              " 'appear',\n",
              " 'new',\n",
              " 'york',\n",
              " 'time',\n",
              " 'contact',\n",
              " 'trump',\n",
              " 'associ',\n",
              " 'russian',\n",
              " 'actor',\n",
              " 'tri',\n",
              " 'bend',\n",
              " 'fbi',\n",
              " 'long',\n",
              " 'time',\n",
              " 'comey',\n",
              " 'lie',\n",
              " 'oath',\n",
              " 'end',\n",
              " 'russia',\n",
              " 'probe',\n",
              " 'trump',\n",
              " 'decid',\n",
              " 'fire',\n",
              " 'fact',\n",
              " 'jeff',\n",
              " 'session',\n",
              " 'actual',\n",
              " 'told',\n",
              " 'find',\n",
              " 'reason',\n",
              " 'fire',\n",
              " 'comey',\n",
              " 'work',\n",
              " 'least',\n",
              " 'week',\n",
              " 'trump',\n",
              " 'like',\n",
              " 'want',\n",
              " 'someon',\n",
              " 'posit',\n",
              " 'end',\n",
              " 'investig',\n",
              " 'discov',\n",
              " 'someth',\n",
              " 'realli',\n",
              " 'damn',\n",
              " 'want',\n",
              " 'trump',\n",
              " 'innoc',\n",
              " 'white',\n",
              " 'hous',\n",
              " 'look',\n",
              " 'reason',\n",
              " 'fire',\n",
              " 'comey',\n",
              " 'comey',\n",
              " 'may',\n",
              " 'even',\n",
              " 'fire',\n",
              " 'trump',\n",
              " 'probabl',\n",
              " 'would',\n",
              " 'done',\n",
              " 'took',\n",
              " 'offic',\n",
              " 'guis',\n",
              " 'get',\n",
              " 'fresh',\n",
              " 'start',\n",
              " 'schiff',\n",
              " 'said',\n",
              " 'cnn',\n",
              " 'behavior',\n",
              " 'innoc',\n",
              " 'imag',\n",
              " 'via',\n",
              " 'mark',\n",
              " 'imag']"
            ]
          },
          "metadata": {},
          "execution_count": 38
        }
      ],
      "source": [
        "clean_text(features[123])"
      ]
    },
    {
      "cell_type": "code",
      "execution_count": 39,
      "metadata": {
        "id": "ebYBT-5cFpVq"
      },
      "outputs": [],
      "source": [
        "#tfidf vectorization\n"
      ]
    },
    {
      "cell_type": "code",
      "execution_count": 40,
      "metadata": {
        "id": "563eVvGIF9ce"
      },
      "outputs": [],
      "source": [
        "#import the class\n",
        "from sklearn.feature_extraction.text import TfidfVectorizer\n"
      ]
    },
    {
      "cell_type": "code",
      "execution_count": 41,
      "metadata": {
        "id": "Z9PiCzW8GL5n"
      },
      "outputs": [],
      "source": [
        "#create the object\n",
        "tfidf= TfidfVectorizer(analyzer=clean_text)            #analyzer is the parameter here"
      ]
    },
    {
      "cell_type": "code",
      "execution_count": 42,
      "metadata": {
        "id": "vItYYESMGYr1"
      },
      "outputs": [],
      "source": [
        "#perform the operation\n",
        "features_new=tfidf.fit_transform(features)"
      ]
    },
    {
      "cell_type": "code",
      "execution_count": 43,
      "metadata": {
        "colab": {
          "base_uri": "https://localhost:8080/"
        },
        "id": "T3OszgCgGwKU",
        "outputId": "35a26bb3-1497-49ba-ef7f-1546fd1033f9"
      },
      "outputs": [
        {
          "output_type": "execute_result",
          "data": {
            "text/plain": [
              "(9900, 33562)"
            ]
          },
          "metadata": {},
          "execution_count": 43
        }
      ],
      "source": [
        "features_new.shape"
      ]
    },
    {
      "cell_type": "code",
      "execution_count": 44,
      "metadata": {
        "colab": {
          "base_uri": "https://localhost:8080/"
        },
        "id": "AWV_5FKcGzPK",
        "outputId": "1af61095-7b3e-41a8-ad6b-9c363d2e473b"
      },
      "outputs": [
        {
          "output_type": "execute_result",
          "data": {
            "text/plain": [
              "33562"
            ]
          },
          "metadata": {},
          "execution_count": 44
        }
      ],
      "source": [
        "len(tfidf.get_feature_names_out())       #features would remain the same for training and testing data"
      ]
    },
    {
      "cell_type": "code",
      "execution_count": 45,
      "metadata": {
        "id": "YKuAqc7MG_D1"
      },
      "outputs": [],
      "source": [
        "#cross validation\n",
        "from sklearn.model_selection import train_test_split"
      ]
    },
    {
      "cell_type": "code",
      "source": [
        "#perform the cross validation\n",
        "x_train, x_test, y_train, y_test = train_test_split(features_new, label, random_state=0)"
      ],
      "metadata": {
        "id": "bIVR3Qz-D99t"
      },
      "execution_count": 46,
      "outputs": []
    },
    {
      "cell_type": "code",
      "execution_count": 47,
      "metadata": {
        "id": "48-HnhVMQaqZ",
        "collapsed": true,
        "colab": {
          "base_uri": "https://localhost:8080/"
        },
        "outputId": "eaf79417-0147-4a88-f40c-68235369d197"
      },
      "outputs": [
        {
          "output_type": "execute_result",
          "data": {
            "text/plain": [
              "(7425, 33562)"
            ]
          },
          "metadata": {},
          "execution_count": 47
        }
      ],
      "source": [
        "x_train.shape"
      ]
    },
    {
      "cell_type": "code",
      "source": [
        "x_test.shape"
      ],
      "metadata": {
        "id": "TJre-jauEe5N",
        "colab": {
          "base_uri": "https://localhost:8080/"
        },
        "outputId": "5ab86291-5c7a-4b4e-b49d-b59dd4b58ec6"
      },
      "execution_count": 48,
      "outputs": [
        {
          "output_type": "execute_result",
          "data": {
            "text/plain": [
              "(2475, 33562)"
            ]
          },
          "metadata": {},
          "execution_count": 48
        }
      ]
    },
    {
      "cell_type": "code",
      "source": [
        "y_train.shape            #only shows the output variables here. the features remain the same"
      ],
      "metadata": {
        "id": "NUacnnLRJPWu",
        "colab": {
          "base_uri": "https://localhost:8080/"
        },
        "outputId": "dd860a09-cd64-406a-bc50-3dded34b439e"
      },
      "execution_count": 49,
      "outputs": [
        {
          "output_type": "execute_result",
          "data": {
            "text/plain": [
              "(7425,)"
            ]
          },
          "metadata": {},
          "execution_count": 49
        }
      ]
    },
    {
      "cell_type": "code",
      "source": [
        "y_test.shape             #gives the testing data. training and testing data has been split"
      ],
      "metadata": {
        "id": "5piY_Qp_JRoN",
        "colab": {
          "base_uri": "https://localhost:8080/"
        },
        "outputId": "4cd77890-8c84-4b43-9d3b-145b852e239f"
      },
      "execution_count": 50,
      "outputs": [
        {
          "output_type": "execute_result",
          "data": {
            "text/plain": [
              "(2475,)"
            ]
          },
          "metadata": {},
          "execution_count": 50
        }
      ]
    },
    {
      "cell_type": "code",
      "source": [
        "#build decison tree algorithm model on training data"
      ],
      "metadata": {
        "id": "b6Q1CiPEJczI"
      },
      "execution_count": 51,
      "outputs": []
    },
    {
      "cell_type": "code",
      "source": [
        "#import the class\n",
        "from sklearn.tree import DecisionTreeClassifier"
      ],
      "metadata": {
        "id": "yMkV7ia0KKz8"
      },
      "execution_count": 52,
      "outputs": []
    },
    {
      "cell_type": "code",
      "source": [
        "#create the object\n",
        "dt = DecisionTreeClassifier(random_state=0)"
      ],
      "metadata": {
        "id": "T8lG6lFbKdwn"
      },
      "execution_count": 53,
      "outputs": []
    },
    {
      "cell_type": "code",
      "source": [
        "#train the algorithm\n",
        "dt.fit(x_train,y_train)             #fitting the data in a particular model"
      ],
      "metadata": {
        "id": "tZXVvicdQOh2",
        "colab": {
          "base_uri": "https://localhost:8080/",
          "height": 74
        },
        "outputId": "a72eac9b-657f-43f7-c27d-4dd76496a9cc"
      },
      "execution_count": 54,
      "outputs": [
        {
          "output_type": "execute_result",
          "data": {
            "text/plain": [
              "DecisionTreeClassifier(random_state=0)"
            ],
            "text/html": [
              "<style>#sk-container-id-1 {color: black;background-color: white;}#sk-container-id-1 pre{padding: 0;}#sk-container-id-1 div.sk-toggleable {background-color: white;}#sk-container-id-1 label.sk-toggleable__label {cursor: pointer;display: block;width: 100%;margin-bottom: 0;padding: 0.3em;box-sizing: border-box;text-align: center;}#sk-container-id-1 label.sk-toggleable__label-arrow:before {content: \"▸\";float: left;margin-right: 0.25em;color: #696969;}#sk-container-id-1 label.sk-toggleable__label-arrow:hover:before {color: black;}#sk-container-id-1 div.sk-estimator:hover label.sk-toggleable__label-arrow:before {color: black;}#sk-container-id-1 div.sk-toggleable__content {max-height: 0;max-width: 0;overflow: hidden;text-align: left;background-color: #f0f8ff;}#sk-container-id-1 div.sk-toggleable__content pre {margin: 0.2em;color: black;border-radius: 0.25em;background-color: #f0f8ff;}#sk-container-id-1 input.sk-toggleable__control:checked~div.sk-toggleable__content {max-height: 200px;max-width: 100%;overflow: auto;}#sk-container-id-1 input.sk-toggleable__control:checked~label.sk-toggleable__label-arrow:before {content: \"▾\";}#sk-container-id-1 div.sk-estimator input.sk-toggleable__control:checked~label.sk-toggleable__label {background-color: #d4ebff;}#sk-container-id-1 div.sk-label input.sk-toggleable__control:checked~label.sk-toggleable__label {background-color: #d4ebff;}#sk-container-id-1 input.sk-hidden--visually {border: 0;clip: rect(1px 1px 1px 1px);clip: rect(1px, 1px, 1px, 1px);height: 1px;margin: -1px;overflow: hidden;padding: 0;position: absolute;width: 1px;}#sk-container-id-1 div.sk-estimator {font-family: monospace;background-color: #f0f8ff;border: 1px dotted black;border-radius: 0.25em;box-sizing: border-box;margin-bottom: 0.5em;}#sk-container-id-1 div.sk-estimator:hover {background-color: #d4ebff;}#sk-container-id-1 div.sk-parallel-item::after {content: \"\";width: 100%;border-bottom: 1px solid gray;flex-grow: 1;}#sk-container-id-1 div.sk-label:hover label.sk-toggleable__label {background-color: #d4ebff;}#sk-container-id-1 div.sk-serial::before {content: \"\";position: absolute;border-left: 1px solid gray;box-sizing: border-box;top: 0;bottom: 0;left: 50%;z-index: 0;}#sk-container-id-1 div.sk-serial {display: flex;flex-direction: column;align-items: center;background-color: white;padding-right: 0.2em;padding-left: 0.2em;position: relative;}#sk-container-id-1 div.sk-item {position: relative;z-index: 1;}#sk-container-id-1 div.sk-parallel {display: flex;align-items: stretch;justify-content: center;background-color: white;position: relative;}#sk-container-id-1 div.sk-item::before, #sk-container-id-1 div.sk-parallel-item::before {content: \"\";position: absolute;border-left: 1px solid gray;box-sizing: border-box;top: 0;bottom: 0;left: 50%;z-index: -1;}#sk-container-id-1 div.sk-parallel-item {display: flex;flex-direction: column;z-index: 1;position: relative;background-color: white;}#sk-container-id-1 div.sk-parallel-item:first-child::after {align-self: flex-end;width: 50%;}#sk-container-id-1 div.sk-parallel-item:last-child::after {align-self: flex-start;width: 50%;}#sk-container-id-1 div.sk-parallel-item:only-child::after {width: 0;}#sk-container-id-1 div.sk-dashed-wrapped {border: 1px dashed gray;margin: 0 0.4em 0.5em 0.4em;box-sizing: border-box;padding-bottom: 0.4em;background-color: white;}#sk-container-id-1 div.sk-label label {font-family: monospace;font-weight: bold;display: inline-block;line-height: 1.2em;}#sk-container-id-1 div.sk-label-container {text-align: center;}#sk-container-id-1 div.sk-container {/* jupyter's `normalize.less` sets `[hidden] { display: none; }` but bootstrap.min.css set `[hidden] { display: none !important; }` so we also need the `!important` here to be able to override the default hidden behavior on the sphinx rendered scikit-learn.org. See: https://github.com/scikit-learn/scikit-learn/issues/21755 */display: inline-block !important;position: relative;}#sk-container-id-1 div.sk-text-repr-fallback {display: none;}</style><div id=\"sk-container-id-1\" class=\"sk-top-container\"><div class=\"sk-text-repr-fallback\"><pre>DecisionTreeClassifier(random_state=0)</pre><b>In a Jupyter environment, please rerun this cell to show the HTML representation or trust the notebook. <br />On GitHub, the HTML representation is unable to render, please try loading this page with nbviewer.org.</b></div><div class=\"sk-container\" hidden><div class=\"sk-item\"><div class=\"sk-estimator sk-toggleable\"><input class=\"sk-toggleable__control sk-hidden--visually\" id=\"sk-estimator-id-1\" type=\"checkbox\" checked><label for=\"sk-estimator-id-1\" class=\"sk-toggleable__label sk-toggleable__label-arrow\">DecisionTreeClassifier</label><div class=\"sk-toggleable__content\"><pre>DecisionTreeClassifier(random_state=0)</pre></div></div></div></div></div>"
            ]
          },
          "metadata": {},
          "execution_count": 54
        }
      ]
    },
    {
      "cell_type": "code",
      "source": [
        "# to see the tree formed\n",
        "from sklearn.tree import plot_tree\n",
        "plot_tree(dt);                #the uppermost number aloong with the variable shows the feature name\n",
        "#the semicolon is used to not print the result of certain command"
      ],
      "metadata": {
        "id": "me4mbQeJQbKS",
        "colab": {
          "base_uri": "https://localhost:8080/",
          "height": 406
        },
        "outputId": "0c215aea-c238-4bc8-819a-2fab9e3da705"
      },
      "execution_count": 55,
      "outputs": [
        {
          "output_type": "display_data",
          "data": {
            "text/plain": [
              "<Figure size 640x480 with 1 Axes>"
            ],
            "image/png": "[encoded data removed]"
          },
          "metadata": {}
        }
      ]
    },
    {
      "cell_type": "code",
      "source": [
        "#performance evaluation"
      ],
      "metadata": {
        "id": "ygqmA-uYRzFm"
      },
      "execution_count": 56,
      "outputs": []
    },
    {
      "cell_type": "code",
      "source": [
        "#predict the result on test data\n",
        "y_pred= dt.predict(x_test)"
      ],
      "metadata": {
        "id": "bFllwA3BRclT"
      },
      "execution_count": 57,
      "outputs": []
    },
    {
      "cell_type": "code",
      "source": [
        "y_pred               #algorithm predicted data"
      ],
      "metadata": {
        "id": "6Qf6ftbPSz9N",
        "colab": {
          "base_uri": "https://localhost:8080/"
        },
        "outputId": "83a47acc-c6de-4c6c-913a-23865d21bfa7"
      },
      "execution_count": 58,
      "outputs": [
        {
          "output_type": "execute_result",
          "data": {
            "text/plain": [
              "array(['Fake', 'Fake', 'Fake', ..., 'Fake', 'Fake', 'Fake'], dtype=object)"
            ]
          },
          "metadata": {},
          "execution_count": 58
        }
      ]
    },
    {
      "cell_type": "code",
      "source": [
        "len(y_pred)                    #test data length"
      ],
      "metadata": {
        "id": "Pw231BwdS1vx",
        "colab": {
          "base_uri": "https://localhost:8080/"
        },
        "outputId": "d7dab564-0dbb-4f1b-e000-1eecd5730bf6"
      },
      "execution_count": 59,
      "outputs": [
        {
          "output_type": "execute_result",
          "data": {
            "text/plain": [
              "2475"
            ]
          },
          "metadata": {},
          "execution_count": 59
        }
      ]
    },
    {
      "cell_type": "code",
      "source": [
        "y_test"
      ],
      "metadata": {
        "id": "URBYxnNRTeiu",
        "colab": {
          "base_uri": "https://localhost:8080/"
        },
        "outputId": "9b17297c-eac6-4b03-f309-ed677408ab1d"
      },
      "execution_count": 60,
      "outputs": [
        {
          "output_type": "execute_result",
          "data": {
            "text/plain": [
              "6688    Fake\n",
              "5766    Fake\n",
              "6335    Fake\n",
              "5857    Real\n",
              "7323    Real\n",
              "        ... \n",
              "14      Real\n",
              "5489    Real\n",
              "6953    Fake\n",
              "6780    Fake\n",
              "6727    Fake\n",
              "Name: label, Length: 2475, dtype: object"
            ]
          },
          "metadata": {},
          "execution_count": 60
        }
      ]
    },
    {
      "cell_type": "code",
      "source": [],
      "metadata": {
        "id": "2ehtCyHJuBYu"
      },
      "execution_count": 60,
      "outputs": []
    },
    {
      "cell_type": "markdown",
      "source": [
        "performance evaluation through confusion matrix\n"
      ],
      "metadata": {
        "id": "V-r6ImrL21mI"
      }
    },
    {
      "cell_type": "code",
      "source": [
        "from sklearn.metrics import ConfusionMatrixDisplay"
      ],
      "metadata": {
        "id": "k8zPuiABJzYY"
      },
      "execution_count": 61,
      "outputs": []
    },
    {
      "cell_type": "code",
      "source": [
        "#show the matrix\n",
        "ConfusionMatrixDisplay.from_predictions(y_test,y_pred);              #2468 results are matching"
      ],
      "metadata": {
        "colab": {
          "base_uri": "https://localhost:8080/",
          "height": 449
        },
        "id": "Y5DiLpop3DHl",
        "outputId": "eb61d97a-14c9-4654-91c7-07a5b91c3bf1"
      },
      "execution_count": 62,
      "outputs": [
        {
          "output_type": "display_data",
          "data": {
            "text/plain": [
              "<Figure size 640x480 with 2 Axes>"
            ],
            "image/png": "[encoded data removed]"
          },
          "metadata": {}
        }
      ]
    },
    {
      "cell_type": "code",
      "source": [
        "#cheching accuracy\n",
        "(1269+1199)/2475"
      ],
      "metadata": {
        "colab": {
          "base_uri": "https://localhost:8080/"
        },
        "id": "10iyQIp13TQJ",
        "outputId": "9b1d3b4a-304b-4b6d-f487-677e8a346d4a"
      },
      "execution_count": 63,
      "outputs": [
        {
          "output_type": "execute_result",
          "data": {
            "text/plain": [
              "0.9971717171717172"
            ]
          },
          "metadata": {},
          "execution_count": 63
        }
      ]
    },
    {
      "cell_type": "code",
      "source": [
        "#recall\n",
        "#for fake class\n",
        "1269/1273"
      ],
      "metadata": {
        "colab": {
          "base_uri": "https://localhost:8080/"
        },
        "id": "hbXp4DfH5zsa",
        "outputId": "6b0de7b5-ab7d-4252-decf-ad3d8692c95a"
      },
      "execution_count": 64,
      "outputs": [
        {
          "output_type": "execute_result",
          "data": {
            "text/plain": [
              "0.9968578161822467"
            ]
          },
          "metadata": {},
          "execution_count": 64
        }
      ]
    },
    {
      "cell_type": "code",
      "source": [
        "#recall for real class\n",
        "1199/1202"
      ],
      "metadata": {
        "colab": {
          "base_uri": "https://localhost:8080/"
        },
        "id": "NiAQfyBi6EAp",
        "outputId": "d1839675-dfdb-4711-b3ef-1b90e40a6783"
      },
      "execution_count": 65,
      "outputs": [
        {
          "output_type": "execute_result",
          "data": {
            "text/plain": [
              "0.997504159733777"
            ]
          },
          "metadata": {},
          "execution_count": 65
        }
      ]
    },
    {
      "cell_type": "markdown",
      "source": [
        "#prediction on unseen news data"
      ],
      "metadata": {
        "id": "0CUmjTf26cuZ"
      }
    },
    {
      "cell_type": "code",
      "source": [
        "f= open('/content/sample_data/sample_news.txt')"
      ],
      "metadata": {
        "id": "AQY-Jtc86evt"
      },
      "execution_count": 67,
      "outputs": []
    },
    {
      "cell_type": "code",
      "source": [
        "news= f.readlines()"
      ],
      "metadata": {
        "id": "vqEfxRHt6u4L"
      },
      "execution_count": 68,
      "outputs": []
    },
    {
      "cell_type": "code",
      "source": [
        "news"
      ],
      "metadata": {
        "colab": {
          "base_uri": "https://localhost:8080/"
        },
        "id": "ASI72iqa6y-o",
        "outputId": "a2e3d9d6-118c-4a5c-e9c0-885443b4ca13"
      },
      "execution_count": 69,
      "outputs": [
        {
          "output_type": "execute_result",
          "data": {
            "text/plain": [
              "['\" Donald Trump’s ‘Charity’ Foundation Is About To Be Shut The F**k Down NATIONWIDE Things really aren t looking too great for Donald Trump s charity foundation. With recent developments prohibiting the Trump Foundation from soliciting funds in New York state, it s now looking like a good majority of states may be following suit.The Trump Foundation has also been being looked at by the Attorney General for how it is getting and spending funds, especially after what happen with veterans organizations earlier this year.According to The Daily Beast: To make matters worse for the Trump Foundation, the probe may not be limited to New York: Charity experts and lawyers tell The Daily Beast that the attorneys general of other states may soon get involved in a long, drawn-out process.All major charities are required to register with 41 different states across the nation in order to individually request permission to fundraise. When Trump raised money for veterans, he may have broken the rules in dozens of states. The president of the National Committee for Responsible Philanthropy, Aaron Dorfman, stated: The Trump Foundation would be required to file similar paperwork with the attorneys generals of nearly every other state, and they could all take similar action. It is likely that other states will follow suit and they will be issued cease and desist orders denying them fundraising privileges in other states. That is the most likely next step. This is not good news for Trump who keeps trying to pivot to slamming Hillary Clinton s Clinton Foundation. You know, the one that helps fight AIDS in nations globally.Trump, of course, likes to pretend that he s holier than thou, which might explain why Trump Foundation money was used to buy pictures of, well, himself.And according to Real Clear Politics: From 2011 through 2014, Trump harnessed his eponymous foundation to send at least $286,000 to influential conservative or policy groups, a RealClearPolitics review of the foundation s tax filings found. In many cases, this flow of money corresponded to prime speaking slots or endorsements that aided Trump as he sought to recast himself as a plausible Republican candidate for president. Finding out Trump is a scam artist using a shell charity with his same name really should come as no surprise. Especially to fund his political ambitions of grandeur. However, it will be interesting to see how this story develops as the November election draws nearer.Featured Photo by Scott Olson/Getty Images\"\\n',\n",
              " '\"U.S. environmental agency chief says humans contribute to global warming WASHINGTON (Reuters) - The head of the U.S. Environmental Protection Agency, Scott Pruitt, said on Friday he believes human activity plays a role in global warming, but measuring that contribution with precision is difficult. Speaking to reporters at the White House a day after President Donald Trump said he would withdraw the United States  from the Paris climate accord, Pruitt declined to directly answer questions about whether the president still believed global warming was a hoax, as he had said during the 2016 presidential campaign Pruitt said he had indicated that global warming is occurring, and that “human activity contributes to it in some manner. Measuring with precision, from my perspective, the degree of human contribution is very challenging.” \"\\n',\n",
              " '\" Golden State Warriors Coach Just WRECKED Trump After Attack On One Of His Players On Saturday, the man we re forced to call  President  Trump responded to Golden State Warriors star Stephen Curry s refusal to accept an invitation to the White House by doing the internet equivalent of incoherently screeching  WELL FINE,  YOU RE NOT INVITED ANYWAY. Going to the White House is considered a great honor for a championship team.Stephen Curry is hesitating,therefore invitation is withdrawn!  Donald J. Trump (@realDonaldTrump) September 23, 2017Unfortunately for Trump, Warriors coach Steve Kerr has Curry s back. The idea of civil discourse with a guy who is tweeting and demeaning people and saying the things he s saying is sort of far-fetched,  Kerr said on Sunday.  Can you picture us really having a civil discourse with him? It was an actual chance to talk to the president,  he said.  After all, he works for us. He s a public servant. He may not be aware of that, but he is a public servant, right? So maybe as NBA champions, as people in a prominent position, we could go in and say,  This is what s bothering us, what can we do about this?\\'  Then he laid in to Trump for attacking black football players for exercising their First Amendment rights while calling Nazis  very fine people: How about the irony of  Free speech is fine if you re a neo-Nazi chanting hate slogans, but free speech is not allowed to kneel in protest?  No matter how many times a football player says,  I honor our military, but I m protesting police brutality and racial inequality,  it doesn t matter. Nationalists are saying,  You re disrespecting our flag.  Well, you know what else is disrespectful to our flag? Racism. And one s way worse than the other. Trump is a constant embarrassment to our country.Watch Kerr rip him apart below:Featured image via video screen capture\"\\n']"
            ]
          },
          "metadata": {},
          "execution_count": 69
        }
      ]
    },
    {
      "cell_type": "code",
      "source": [
        "tfidf.transform(news)"
      ],
      "metadata": {
        "colab": {
          "base_uri": "https://localhost:8080/"
        },
        "id": "jNHeWEmY60nY",
        "outputId": "a8f4eff4-3382-49c0-c3a2-52916497231a"
      },
      "execution_count": 70,
      "outputs": [
        {
          "output_type": "execute_result",
          "data": {
            "text/plain": [
              "<3x33562 sparse matrix of type '<class 'numpy.float64'>'\n",
              "\twith 325 stored elements in Compressed Sparse Row format>"
            ]
          },
          "metadata": {},
          "execution_count": 70
        }
      ]
    },
    {
      "cell_type": "code",
      "source": [
        "dt.predict(tfidf.transform(news))"
      ],
      "metadata": {
        "colab": {
          "base_uri": "https://localhost:8080/"
        },
        "id": "yTRH0IQF7Vfb",
        "outputId": "0f5fbce5-6708-479c-e2d9-b1b4f7ee7599"
      },
      "execution_count": 71,
      "outputs": [
        {
          "output_type": "execute_result",
          "data": {
            "text/plain": [
              "array(['Fake', 'Real', 'Fake'], dtype=object)"
            ]
          },
          "metadata": {},
          "execution_count": 71
        }
      ]
    },
    {
      "cell_type": "code",
      "source": [
        "len(news)"
      ],
      "metadata": {
        "colab": {
          "base_uri": "https://localhost:8080/"
        },
        "id": "on-KDVLj7eNG",
        "outputId": "dd9522b1-880b-4490-d8b2-711b5aa48fc8"
      },
      "execution_count": 72,
      "outputs": [
        {
          "output_type": "execute_result",
          "data": {
            "text/plain": [
              "3"
            ]
          },
          "metadata": {},
          "execution_count": 72
        }
      ]
    },
    {
      "cell_type": "code",
      "source": [],
      "metadata": {
        "id": "12371j9b7syr"
      },
      "execution_count": null,
      "outputs": []
    }
  ],
  "metadata": {
    "colab": {
      "provenance": [],
      "authorship_tag": "ABX9TyPyb0Z3ZJ5kHXfRcHVjQ3H4",
      "include_colab_link": true
    },
    "kernelspec": {
      "display_name": "Python 3",
      "name": "python3"
    },
    "language_info": {
      "name": "python"
    }
  },
  "nbformat": 4,
  "nbformat_minor": 0
}